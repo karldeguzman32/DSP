{
  "cells": [
    {
      "cell_type": "markdown",
      "metadata": {
        "id": "view-in-github",
        "colab_type": "text"
      },
      "source": [
        "<a href=\"https://colab.research.google.com/github/karldeguzman32/DSP/blob/main/Lab02/siggenpy/58044_Lab02_DSPy.ipynb\" target=\"_parent\"><img src=\"https://colab.research.google.com/assets/colab-badge.svg\" alt=\"Open In Colab\"/></a>"
      ]
    },
    {
      "cell_type": "markdown",
      "id": "ee05623e-ea16-41d6-b513-14381a7e3467",
      "metadata": {
        "id": "ee05623e-ea16-41d6-b513-14381a7e3467"
      },
      "source": [
        "<h2><b>Digital Signal Processing \n",
        "<h6><b>Lab02: Signal Generator Package\n",
        "<h5><i>Submitted by\n",
        "Group DSPy:<br><br>\n",
        "Datay, Danica Mae <br>\n",
        "David, Ed Mark<br>\n",
        "De Guzman, Karl Adrian<br>\n",
        "Tagalog, Flor-Ann B."
      ]
    },
    {
      "cell_type": "markdown",
      "id": "1d2a95be-30ff-4691-800a-b2d6e562997f",
      "metadata": {
        "id": "1d2a95be-30ff-4691-800a-b2d6e562997f"
      },
      "source": [
        "## <b>Siggenpy Instruction</b>"
      ]
    },
    {
      "cell_type": "markdown",
      "id": "acc045a6",
      "metadata": {
        "id": "acc045a6"
      },
      "source": [
        "1. Import the \"discrete_time\" module as dt"
      ]
    },
    {
      "cell_type": "code",
      "execution_count": 1,
      "id": "b2091f14",
      "metadata": {
        "id": "b2091f14"
      },
      "outputs": [],
      "source": [
        "import discrete_time as dt"
      ]
    },
    {
      "cell_type": "markdown",
      "id": "bfab170f",
      "metadata": {
        "id": "bfab170f"
      },
      "source": [
        "2. To generate the signal, call the signal type, under the method \"GenerateSignal\", under the module imported as \"dt\""
      ]
    },
    {
      "cell_type": "markdown",
      "id": "f19fefa2",
      "metadata": {
        "id": "f19fefa2"
      },
      "source": [
        "###     The following are the different kinds of discrete-time signals included in the package:"
      ]
    },
    {
      "cell_type": "markdown",
      "id": "10abb95f",
      "metadata": {
        "id": "10abb95f"
      },
      "source": [
        "### Impulse Signal\n",
        "Impulse signals or delta signals are characterized as: if the value of time or n variable is equals to 0, then the value of impulse function is 1. The value is 0 if the time or n variable is not 0. \n",
        "\n",
        "$$x[n] = \\delta[n] = \n",
        "\\begin{cases}\n",
        "1 \\text{ if } n\\geq 0 \\\\\n",
        "0 \\text{ otherwise }\n",
        "\\end{cases}$$"
      ]
    },
    {
      "cell_type": "code",
      "execution_count": 2,
      "id": "1b3b17ea",
      "metadata": {
        "colab": {
          "base_uri": "https://localhost:8080/",
          "height": 475
        },
        "id": "1b3b17ea",
        "outputId": "bca3f8e7-c941-4c0e-c2c4-f97b8ce7943b"
      },
      "outputs": [
        {
          "output_type": "display_data",
          "data": {
            "image/png": "[encoded data removed]",
            "text/plain": [
              "<Figure size 720x504 with 1 Axes>"
            ]
          },
          "metadata": {
            "needs_background": "light"
          }
        },
        {
          "output_type": "execute_result",
          "data": {
            "text/plain": [
              "array([0., 0., 0., 0., 0., 1., 0., 0., 0., 0., 0.])"
            ]
          },
          "metadata": {},
          "execution_count": 2
        }
      ],
      "source": [
        "dt.GenerateSignal.impulse_signal(-5,5)"
      ]
    },
    {
      "cell_type": "markdown",
      "id": "0624399b",
      "metadata": {
        "id": "0624399b"
      },
      "source": [
        "### Unit Step Signal\n",
        "Unit Step Signal is represented as the formula below, where it is equal to 1 for all the values of n which are greater than equal to 0 and it is equal to 0 for all the values of n which is less than 0,\n",
        "\n",
        "\n",
        "$$x[n] = u[n] = \\begin{cases}\n",
        "1 \\text{ if } n\\geq 0 \\\\\n",
        "0 \\text{ if } n< 0\n",
        "\\end{cases}$$\n",
        "\n",
        "If we plot this definition, we will have something like this. Here you can see that u[n] is equal to 1 when n is equal to 0 and u[n] remains 1 for all the values of n which are greater than 0 and it will remain 1 up to plus infinity on the other hand when u[n] is equal to 0 when n is equal to minus 1 here u[n] is 0 for all the values of n which are less than 0 this means all the values of n which are negative whenever you will find n is negative you will have un equal to 0 so here n is minus 1 that is n is negative therefore un is 0 similarly it will remain 0 up to n equal to minus infinity."
      ]
    },
    {
      "cell_type": "code",
      "execution_count": 3,
      "id": "1814bf99",
      "metadata": {
        "colab": {
          "base_uri": "https://localhost:8080/",
          "height": 475
        },
        "id": "1814bf99",
        "outputId": "9663dd4c-0704-4634-b260-5451fbc4d8dc"
      },
      "outputs": [
        {
          "output_type": "display_data",
          "data": {
            "image/png": "[encoded data removed]",
            "text/plain": [
              "<Figure size 720x504 with 1 Axes>"
            ]
          },
          "metadata": {
            "needs_background": "light"
          }
        },
        {
          "output_type": "execute_result",
          "data": {
            "text/plain": [
              "array([0., 0., 0., 0., 0., 1., 1., 1., 1., 1., 1.])"
            ]
          },
          "metadata": {},
          "execution_count": 3
        }
      ],
      "source": [
        "dt.GenerateSignal.unit_signal(-5,5)"
      ]
    },
    {
      "cell_type": "markdown",
      "id": "1acc8d1a",
      "metadata": {
        "id": "1acc8d1a"
      },
      "source": [
        "### Ramp Signal\n",
        "Ramp signals or linear step signals is a function that increase linearly if the value of time or n is greater than or equal to 0. The value is 0 if the time or n variable is less than 0. \n",
        "\n",
        "To get the value of ramp step, the value of n will be multiplied to the value of unit step.\n",
        "$$x[n]=n\\cdot u[n] =r[n]=\\begin{cases}\n",
        "n \\text{ if } n\\geq 0 \\\\\n",
        "0 \\text{ if } n< 0\n",
        "\\end{cases}$$"
      ]
    },
    {
      "cell_type": "code",
      "execution_count": 4,
      "id": "e3349175",
      "metadata": {
        "colab": {
          "base_uri": "https://localhost:8080/",
          "height": 475
        },
        "id": "e3349175",
        "outputId": "1a0fe312-de5c-4a3b-f326-754f5acc54d0"
      },
      "outputs": [
        {
          "output_type": "display_data",
          "data": {
            "image/png": "[encoded data removed]",
            "text/plain": [
              "<Figure size 720x504 with 1 Axes>"
            ]
          },
          "metadata": {
            "needs_background": "light"
          }
        },
        {
          "output_type": "execute_result",
          "data": {
            "text/plain": [
              "array([-0., -0., -0., -0., -0.,  0.,  1.,  2.,  3.,  4.,  5.])"
            ]
          },
          "metadata": {},
          "execution_count": 4
        }
      ],
      "source": [
        "dt.GenerateSignal.ramp_signal(-5,5)"
      ]
    },
    {
      "cell_type": "markdown",
      "id": "66a543d3",
      "metadata": {
        "id": "66a543d3"
      },
      "source": [
        "### Exponential Decay\n",
        "Exponential decay is denoted as the equation below, that shows for any factor or any constant a raise to n you will just multiply with unit step. The constant \"a\" here should be in the values between 0 and 1. In here the decay signal is used, which necessitates the use of the alpha parameter. It will not return an error if the alpha parameter is not initialized\n",
        "\n",
        "$$x[n]=|a|^n\\cdot u[n] =exp[n]; 0 < a\\leq 1$$"
      ]
    },
    {
      "cell_type": "code",
      "execution_count": 5,
      "id": "4bbeabef",
      "metadata": {
        "colab": {
          "base_uri": "https://localhost:8080/",
          "height": 527
        },
        "id": "4bbeabef",
        "outputId": "d7d3bef4-a55e-451c-f60f-0d86038691c9"
      },
      "outputs": [
        {
          "output_type": "display_data",
          "data": {
            "image/png": "[encoded data removed]",
            "text/plain": [
              "<Figure size 720x504 with 1 Axes>"
            ]
          },
          "metadata": {
            "needs_background": "light"
          }
        },
        {
          "output_type": "execute_result",
          "data": {
            "text/plain": [
              "array([0.        , 0.        , 0.        , 0.        , 0.        ,\n",
              "       1.        , 0.6       , 0.36      , 0.216     , 0.1296    ,\n",
              "       0.07776   , 0.046656  , 0.0279936 , 0.01679616, 0.0100777 ,\n",
              "       0.00604662])"
            ]
          },
          "metadata": {},
          "execution_count": 5
        }
      ],
      "source": [
        "dt.GenerateSignal.exponential_decay(-5,10, 0.6)"
      ]
    },
    {
      "cell_type": "markdown",
      "id": "0c060f0a",
      "metadata": {
        "id": "0c060f0a"
      },
      "source": [
        "### Exponential Growth\n",
        "When the number of a certain entity increases at an exponential rate over time, this is referred to as exponential growth. An exponentially growing mathematical function is one in which the magnitude of the numbers grows over time [1].\n",
        "\n",
        "To get the value of exponential growth, the value of time or n raised to the value of alpha will be multiplied to the value of unit step.\n",
        "$$x[n]=|a|^n\\cdot u[n] =exp[n]; 0 < a\\leq 1$$"
      ]
    },
    {
      "cell_type": "code",
      "execution_count": 6,
      "id": "cf4ad638",
      "metadata": {
        "colab": {
          "base_uri": "https://localhost:8080/",
          "height": 493
        },
        "id": "cf4ad638",
        "outputId": "883d0e7d-92e2-4f5d-dc7d-4093df0815bf"
      },
      "outputs": [
        {
          "output_type": "display_data",
          "data": {
            "image/png": "[encoded data removed]",
            "text/plain": [
              "<Figure size 720x504 with 1 Axes>"
            ]
          },
          "metadata": {
            "needs_background": "light"
          }
        },
        {
          "output_type": "execute_result",
          "data": {
            "text/plain": [
              "array([  0.,   0.,   0.,   0.,   0.,   0.,   1.,   4.,   9.,  16.,  25.,\n",
              "        36.,  49.,  64.,  81., 100.])"
            ]
          },
          "metadata": {},
          "execution_count": 6
        }
      ],
      "source": [
        "dt.GenerateSignal.exponential_growth(-5,10, 2)"
      ]
    },
    {
      "cell_type": "markdown",
      "id": "51dd64f6",
      "metadata": {
        "id": "51dd64f6"
      },
      "source": [
        "## Sigmoid Signal\n",
        "The Sigmoid function deals with an equation that involves an input in any values, the output will be scaled into a value between the range of zero and one. The equation is given as one upon one plus e to the power of negative x. The Sigmoid functions is plotted below with a lollipop chart which shows the input is transformed between zero and one.\n",
        "$$ \\theta =  \\frac{\\mathrm{1} }{\\mathrm{1} + e^{-x} }  $$"
      ]
    },
    {
      "cell_type": "code",
      "execution_count": 7,
      "id": "d882a006",
      "metadata": {
        "colab": {
          "base_uri": "https://localhost:8080/",
          "height": 510
        },
        "id": "d882a006",
        "outputId": "e7e9d4a8-c36b-4e67-d26a-96b5202d8e7b"
      },
      "outputs": [
        {
          "output_type": "display_data",
          "data": {
            "image/png": "[encoded data removed]",
            "text/plain": [
              "<Figure size 720x504 with 1 Axes>"
            ]
          },
          "metadata": {
            "needs_background": "light"
          }
        },
        {
          "output_type": "execute_result",
          "data": {
            "text/plain": [
              "array([0.00247262, 0.00669285, 0.01798621, 0.04742587, 0.11920292,\n",
              "       0.26894142, 0.5       , 0.73105858, 0.88079708, 0.95257413,\n",
              "       0.98201379, 0.99330715, 0.99752738])"
            ]
          },
          "metadata": {},
          "execution_count": 7
        }
      ],
      "source": [
        "dt.GenerateSignal.sigmoid(-6,6)"
      ]
    },
    {
      "cell_type": "markdown",
      "id": "78836231",
      "metadata": {
        "id": "78836231"
      },
      "source": [
        "### Leaky ReLU\n",
        "One solution to the \"dying ReLU\" problem is to use leaky ReLUs. When x < 0, the function of a leaky ReLU will have a slight positive slope instead of being zero (of 0.01, or so) [2]. If the value of n is less than 0, n will be multiplied to 0.01\n",
        "\n",
        "To get the value of Leaky ReLU, the value of n will be multiplied to the unit step.\n",
        "$$x[n]=n\\cdot u[n] =LRLU[n]=\\begin{cases}\n",
        "0.01n \\text{ if } n\\geq 0 \\\\\n",
        "0 \\text{ if } n< 0\n",
        "\\end{cases}$$"
      ]
    },
    {
      "cell_type": "code",
      "execution_count": 8,
      "id": "f2373f35",
      "metadata": {
        "colab": {
          "base_uri": "https://localhost:8080/",
          "height": 493
        },
        "id": "f2373f35",
        "outputId": "0308ee45-fe6c-412f-b91b-4145ab41a229"
      },
      "outputs": [
        {
          "output_type": "display_data",
          "data": {
            "image/png": "[encoded data removed]",
            "text/plain": [
              "<Figure size 720x504 with 1 Axes>"
            ]
          },
          "metadata": {
            "needs_background": "light"
          }
        },
        {
          "output_type": "execute_result",
          "data": {
            "text/plain": [
              "array([-0.05, -0.04, -0.03, -0.02, -0.01,  0.  ,  1.  ,  2.  ,  3.  ,\n",
              "        4.  ,  5.  ])"
            ]
          },
          "metadata": {},
          "execution_count": 8
        }
      ],
      "source": [
        "dt.GenerateSignal.leaky_relu(-5,5)"
      ]
    },
    {
      "cell_type": "markdown",
      "id": "5acdff9d",
      "metadata": {
        "id": "5acdff9d"
      },
      "source": [
        "### ELU\n",
        "The ELU function deals with an equation that involves an input value of x that is positive or greater than or equal to zero, the output will be the same. On other cases, if the input value of x is negative or less than zero then the formula of alpha multiplied by e to the power x minus one will be used. In the formula, the alpha will serve as a learning or fixed parameter while x is acquired after the pre-activation step. The ELU function is plotted below with an alpha value of 0.3. The positive values shows a straight slope in which y is equal to x while negative values shows a horizontal slope until it shifts towards zero.\n",
        "$$e[n]=\\begin{cases}\n",
        "n \\text{ if } n\\geq 0 \\\\\n",
        "\\alpha (e^n – 1)\\text{ if } n< 0\n",
        "\\end{cases}$$"
      ]
    },
    {
      "cell_type": "code",
      "execution_count": 9,
      "id": "4c141721",
      "metadata": {
        "colab": {
          "base_uri": "https://localhost:8080/",
          "height": 493
        },
        "id": "4c141721",
        "outputId": "7a641e4d-f57c-45a8-9560-bcf245c3d2df"
      },
      "outputs": [
        {
          "output_type": "display_data",
          "data": {
            "image/png": "[encoded data removed]",
            "text/plain": [
              "<Figure size 720x504 with 1 Axes>"
            ]
          },
          "metadata": {
            "needs_background": "light"
          }
        },
        {
          "output_type": "execute_result",
          "data": {
            "text/plain": [
              "array([-0.28506388, -0.25939942, -0.18963617,  0.        ,  1.        ,\n",
              "        2.        ,  3.        ])"
            ]
          },
          "metadata": {},
          "execution_count": 9
        }
      ],
      "source": [
        "dt.GenerateSignal.elu(-3,3, 0.3)"
      ]
    },
    {
      "cell_type": "markdown",
      "id": "8b31e531-9029-4533-93e1-909b97b95e60",
      "metadata": {
        "id": "8b31e531-9029-4533-93e1-909b97b95e60"
      },
      "source": [
        "<b>Refereces:</b><br><br>\n",
        "[1] D. R. Osborn, “Difference between exponential growth and exponential decay,” Difference Between Similar Terms and Objects, 24-Jun-2019. [Online]. Available: http://www.differencebetween.net/science/mathematics-statistics/difference-between-exponential-growth-and-exponential-decay/. [Accessed 16 February 2022].\n",
        "\n",
        "[2] CS231N convolutional neural networks for visual recognition. [Online]. Available: https://cs231n.github.io/neural-networks-1/#:~:text=Leaky%20ReLU.,α%20is%20a%20small%20constant. [Accessed 16 February 2022]."
      ]
    }
  ],
  "metadata": {
    "kernelspec": {
      "display_name": "Python 3 (ipykernel)",
      "language": "python",
      "name": "python3"
    },
    "language_info": {
      "codemirror_mode": {
        "name": "ipython",
        "version": 3
      },
      "file_extension": ".py",
      "mimetype": "text/x-python",
      "name": "python",
      "nbconvert_exporter": "python",
      "pygments_lexer": "ipython3",
      "version": "3.9.1"
    },
    "colab": {
      "name": "58044_Lab02_DSPy.ipynb",
      "provenance": [],
      "include_colab_link": true
    }
  },
  "nbformat": 4,
  "nbformat_minor": 5
}